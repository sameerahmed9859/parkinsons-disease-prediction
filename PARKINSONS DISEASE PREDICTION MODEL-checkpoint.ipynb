{
 "cells": [
  {
   "cell_type": "code",
   "execution_count": null,
   "id": "f774f288",
   "metadata": {},
   "outputs": [],
   "source": [
    "import pandas as pd\n",
    "import numpy as np\n",
    "import seaborn as sns\n",
    "import matplotlib.pyplot as plt\n",
    "import plotly.express as px\n",
    "\n",
    "\n",
    "import warnings\n",
    "warnings.filterwarnings('ignore')"
   ]
  },
  {
   "cell_type": "code",
   "execution_count": null,
   "id": "0a2792ed",
   "metadata": {},
   "outputs": [],
   "source": [
    "df=pd.read_csv('pd_speech_features.csv')\n",
    "df.head()"
   ]
  },
  {
   "cell_type": "code",
   "execution_count": null,
   "id": "3b43d904",
   "metadata": {},
   "outputs": [],
   "source": [
    "df.shape"
   ]
  },
  {
   "cell_type": "code",
   "execution_count": null,
   "id": "fcf92d9d",
   "metadata": {},
   "outputs": [],
   "source": [
    "df.dtypes\n"
   ]
  },
  {
   "cell_type": "code",
   "execution_count": null,
   "id": "d9db7af2",
   "metadata": {},
   "outputs": [],
   "source": [
    "df.info()"
   ]
  },
  {
   "cell_type": "code",
   "execution_count": null,
   "id": "c276fb11",
   "metadata": {},
   "outputs": [],
   "source": [
    "df.isnull().sum()/len(df)"
   ]
  },
  {
   "cell_type": "code",
   "execution_count": null,
   "id": "ba11c48f",
   "metadata": {},
   "outputs": [],
   "source": [
    "df.isnull().sum().sum()"
   ]
  },
  {
   "cell_type": "code",
   "execution_count": null,
   "id": "8fcec1ce",
   "metadata": {},
   "outputs": [],
   "source": [
    "sns.countplot(x=\"class\", data=df)   # we can see that there imbalance in data so model cannot train properly we can do downsampling "
   ]
  },
  {
   "cell_type": "code",
   "execution_count": null,
   "id": "f0be30fe",
   "metadata": {},
   "outputs": [],
   "source": [
    "sns.countplot(x=\"gender\", data=df)"
   ]
  },
  {
   "cell_type": "code",
   "execution_count": null,
   "id": "49dcc2b8",
   "metadata": {},
   "outputs": [],
   "source": [
    "pd.crosstab(df[\"class\"], df[\"gender\"])"
   ]
  },
  {
   "cell_type": "code",
   "execution_count": null,
   "id": "04d0975d",
   "metadata": {},
   "outputs": [],
   "source": [
    "from sklearn.utils import resample\n",
    "## majority class 1\n",
    "df_majority = df[df['class']==1]\n",
    "## minority class 0\n",
    "df_minority = df[df['class']==0]\n",
    "df_minority.shape"
   ]
  },
  {
   "cell_type": "code",
   "execution_count": null,
   "id": "29a30474",
   "metadata": {},
   "outputs": [],
   "source": [
    "df_majority_downsampled = resample(df_majority, \n",
    "                                 replace=False,   \n",
    "                                 n_samples=len(df_minority),    \n",
    "                                 random_state=1234) \n",
    "df = df_majority_downsampled.append(df_minority)\n",
    "df.head()"
   ]
  },
  {
   "cell_type": "code",
   "execution_count": null,
   "id": "4a791831",
   "metadata": {},
   "outputs": [],
   "source": [
    "condition = [\"Does not have Parkinson's\",\"Does have Parkinson's\"]\n",
    "\n",
    "have_or_not = df[\"class\"].value_counts().tolist()\n",
    "values = [have_or_not[0], have_or_not[1]]\n",
    "\n",
    "fig = px.pie(values = df[\"class\"].value_counts(), names = condition, width = 800, height = 400, color_discrete_sequence = [\"skyblue\", \"violet\"], title = \"Percentage whether patient has Parkinson's or not\")\n",
    "fig.show()"
   ]
  },
  {
   "cell_type": "code",
   "execution_count": null,
   "id": "5668f7e5",
   "metadata": {},
   "outputs": [],
   "source": [
    "sns.distplot(df[\"numPulses\"], color = \"orange\");"
   ]
  },
  {
   "cell_type": "code",
   "execution_count": null,
   "id": "5a849611",
   "metadata": {},
   "outputs": [],
   "source": [
    "sns.distplot(df[\"meanPeriodPulses\"], color = \"indigo\")"
   ]
  },
  {
   "cell_type": "code",
   "execution_count": null,
   "id": "d6ec60bb",
   "metadata": {},
   "outputs": [],
   "source": [
    "from sklearn.model_selection import train_test_split\n",
    "from sklearn.preprocessing import StandardScaler\n",
    "from sklearn.linear_model import LogisticRegression\n",
    "from sklearn.ensemble import RandomForestClassifier\n",
    "from sklearn.svm import LinearSVC \n",
    "from sklearn.ensemble import BaggingClassifier"
   ]
  },
  {
   "cell_type": "code",
   "execution_count": null,
   "id": "c983db8d",
   "metadata": {},
   "outputs": [],
   "source": [
    "x=df.drop('class',axis=1)\n",
    "y=df['class']"
   ]
  },
  {
   "cell_type": "code",
   "execution_count": null,
   "id": "ff494566",
   "metadata": {},
   "outputs": [],
   "source": [
    "xtrain,xtest,ytrain,ytest=train_test_split(x,y,test_size=0.30,random_state=42)"
   ]
  },
  {
   "cell_type": "code",
   "execution_count": null,
   "id": "7f1aa78f",
   "metadata": {},
   "outputs": [],
   "source": [
    "ss=StandardScaler()\n",
    "ss.fit(xtrain)"
   ]
  },
  {
   "cell_type": "code",
   "execution_count": null,
   "id": "4c8b6ac9",
   "metadata": {},
   "outputs": [],
   "source": [
    "xtrain=ss.transform(xtrain)\n",
    "xtest=ss.transform(xtest)"
   ]
  },
  {
   "cell_type": "code",
   "execution_count": null,
   "id": "b92c4aaa",
   "metadata": {},
   "outputs": [],
   "source": [
    "lv=LinearSVC()"
   ]
  },
  {
   "cell_type": "code",
   "execution_count": null,
   "id": "39c65463",
   "metadata": {},
   "outputs": [],
   "source": [
    "lv.fit(xtrain,ytrain)"
   ]
  },
  {
   "cell_type": "code",
   "execution_count": null,
   "id": "87f6a689",
   "metadata": {},
   "outputs": [],
   "source": [
    "lv.score(xtrain,ytrain)*100"
   ]
  },
  {
   "cell_type": "code",
   "execution_count": null,
   "id": "c04c96e4",
   "metadata": {},
   "outputs": [],
   "source": [
    "pred_lv=lv.predict(xtrain)"
   ]
  },
  {
   "cell_type": "code",
   "execution_count": null,
   "id": "3cb5f945",
   "metadata": {},
   "outputs": [],
   "source": [
    "from sklearn.metrics import accuracy_score,classification_report,confusion_matrix,cohen_kappa_score"
   ]
  },
  {
   "cell_type": "code",
   "execution_count": null,
   "id": "7ccee32e",
   "metadata": {},
   "outputs": [],
   "source": [
    "print('accuracy score:',accuracy_score(ytrain,pred_lv))\n",
    "print('classification_report:\\n' , classification_report(ytrain,pred_lv))"
   ]
  },
  {
   "cell_type": "code",
   "execution_count": null,
   "id": "100fd06b",
   "metadata": {},
   "outputs": [],
   "source": [
    "pred_lv_y=lv.predict(xtest)"
   ]
  },
  {
   "cell_type": "code",
   "execution_count": null,
   "id": "100ecbdf",
   "metadata": {},
   "outputs": [],
   "source": [
    "print('accuracy score:',accuracy_score(ytest,pred_lv_y))\n",
    "print('classification_report:\\n' , classification_report(ytest,pred_lv_y))"
   ]
  },
  {
   "cell_type": "code",
   "execution_count": null,
   "id": "227f8542",
   "metadata": {},
   "outputs": [],
   "source": [
    "LR=LogisticRegression()\n",
    "LR.fit(xtrain,ytrain)"
   ]
  },
  {
   "cell_type": "code",
   "execution_count": null,
   "id": "b90eadf9",
   "metadata": {},
   "outputs": [],
   "source": [
    "lr_pred=LR.predict(xtrain)"
   ]
  },
  {
   "cell_type": "code",
   "execution_count": null,
   "id": "01222c52",
   "metadata": {},
   "outputs": [],
   "source": [
    "pred_lr_y=LR.predict(xtest)"
   ]
  },
  {
   "cell_type": "code",
   "execution_count": null,
   "id": "9b8ecffb",
   "metadata": {},
   "outputs": [],
   "source": [
    "print('accuracy score:',accuracy_score(ytrain,lr_pred))\n",
    "print('classification_report:\\n' , classification_report(ytrain,lr_pred))"
   ]
  },
  {
   "cell_type": "code",
   "execution_count": null,
   "id": "b16376fa",
   "metadata": {},
   "outputs": [],
   "source": [
    "print('accuracy score:',accuracy_score(ytest,pred_lr_y))\n",
    "print('classification_report:\\n' , classification_report(ytest,pred_lr_y))"
   ]
  },
  {
   "cell_type": "code",
   "execution_count": null,
   "id": "02e30f7b",
   "metadata": {},
   "outputs": [],
   "source": [
    "RF=RandomForestClassifier()"
   ]
  },
  {
   "cell_type": "code",
   "execution_count": null,
   "id": "0e5a92d0",
   "metadata": {},
   "outputs": [],
   "source": [
    "RF.fit(xtrain,ytrain)"
   ]
  },
  {
   "cell_type": "code",
   "execution_count": null,
   "id": "f8bf5921",
   "metadata": {},
   "outputs": [],
   "source": [
    "rf_pred=RF.predict(xtrain)"
   ]
  },
  {
   "cell_type": "code",
   "execution_count": null,
   "id": "78e3bb01",
   "metadata": {},
   "outputs": [],
   "source": [
    "rf_pred_y=RF.predict(xtest)"
   ]
  },
  {
   "cell_type": "code",
   "execution_count": null,
   "id": "76f691ec",
   "metadata": {},
   "outputs": [],
   "source": [
    "print('accuracy score:',accuracy_score(ytrain,rf_pred))\n",
    "print('classification_report:\\n' , classification_report(ytrain,rf_pred))"
   ]
  },
  {
   "cell_type": "code",
   "execution_count": null,
   "id": "086118c9",
   "metadata": {},
   "outputs": [],
   "source": [
    "print('accuracy score:',accuracy_score(ytest,rf_pred_y))\n",
    "print('classification_report:\\n' , classification_report(ytest,rf_pred_y))"
   ]
  },
  {
   "cell_type": "markdown",
   "id": "aa569f54",
   "metadata": {},
   "source": [
    "# Hypertuning"
   ]
  },
  {
   "cell_type": "code",
   "execution_count": null,
   "id": "37598cb9",
   "metadata": {},
   "outputs": [],
   "source": [
    "np.random.seed(42)\n",
    "\n",
    "RF = RandomForestClassifier(n_estimators = 100)\n",
    "RF.fit(xtrain,ytrain)\n",
    "\n",
    "RF.score(xtest, ytest)"
   ]
  },
  {
   "cell_type": "code",
   "execution_count": null,
   "id": "094222a7",
   "metadata": {},
   "outputs": [],
   "source": [
    "rfh_pred=RF.predict(xtrain)"
   ]
  },
  {
   "cell_type": "code",
   "execution_count": null,
   "id": "7d587185",
   "metadata": {},
   "outputs": [],
   "source": [
    "rfh_pred_y=RF.predict(xtest)"
   ]
  },
  {
   "cell_type": "code",
   "execution_count": null,
   "id": "b47aa908",
   "metadata": {},
   "outputs": [],
   "source": [
    "print('accuracy score:',accuracy_score(ytest,rfh_pred_y))\n",
    "print('classification_report:\\n' , classification_report(ytest,rfh_pred_y))"
   ]
  },
  {
   "cell_type": "code",
   "execution_count": null,
   "id": "2b324b84",
   "metadata": {},
   "outputs": [],
   "source": [
    "BG=BaggingClassifier()\n",
    "BG.fit(xtrain,ytrain)"
   ]
  },
  {
   "cell_type": "code",
   "execution_count": null,
   "id": "becc2c63",
   "metadata": {},
   "outputs": [],
   "source": [
    "bg_pred=BG.predict(xtrain)"
   ]
  },
  {
   "cell_type": "code",
   "execution_count": null,
   "id": "2b52f6f0",
   "metadata": {},
   "outputs": [],
   "source": [
    "bg_pred_y=BG.predict(xtest)"
   ]
  },
  {
   "cell_type": "code",
   "execution_count": null,
   "id": "e896427e",
   "metadata": {},
   "outputs": [],
   "source": [
    "print('accuracy score:',accuracy_score(ytrain,bg_pred))\n",
    "print('classification_report:\\n' , classification_report(ytrain,bg_pred))"
   ]
  },
  {
   "cell_type": "code",
   "execution_count": null,
   "id": "0bfbb9cd",
   "metadata": {},
   "outputs": [],
   "source": [
    "print('accuracy score:',accuracy_score(ytest,bg_pred_y))\n",
    "print('classification_report:\\n' , classification_report(ytest,bg_pred_y))"
   ]
  },
  {
   "cell_type": "code",
   "execution_count": null,
   "id": "b396a992",
   "metadata": {},
   "outputs": [],
   "source": [
    "np.random.seed(42)\n",
    "\n",
    "bgh = BaggingClassifier()\n",
    "bgh.fit(xtrain, ytrain)\n"
   ]
  },
  {
   "cell_type": "code",
   "execution_count": null,
   "id": "6b9c4575",
   "metadata": {},
   "outputs": [],
   "source": [
    "bgh_pred=BG.predict(xtrain)"
   ]
  },
  {
   "cell_type": "code",
   "execution_count": null,
   "id": "42601af1",
   "metadata": {},
   "outputs": [],
   "source": [
    "bgh_pred_y=BG.predict(xtest)"
   ]
  },
  {
   "cell_type": "code",
   "execution_count": null,
   "id": "7deed8ad",
   "metadata": {},
   "outputs": [],
   "source": [
    "print('accuracy score:',accuracy_score(ytrain,bgh_pred))\n",
    "print('classification_report:\\n' , classification_report(ytrain,bgh_pred))"
   ]
  },
  {
   "cell_type": "code",
   "execution_count": null,
   "id": "809ebb2a",
   "metadata": {},
   "outputs": [],
   "source": [
    "print('accuracy score:',accuracy_score(ytest,bgh_pred_y))\n",
    "print('classification_report:\\n' , classification_report(ytest,bgh_pred_y))"
   ]
  },
  {
   "cell_type": "code",
   "execution_count": null,
   "id": "8953b8e5",
   "metadata": {},
   "outputs": [],
   "source": []
  },
  {
   "cell_type": "code",
   "execution_count": null,
   "id": "8415f5fc",
   "metadata": {},
   "outputs": [],
   "source": []
  }
 ],
 "metadata": {
  "kernelspec": {
   "display_name": "Python 3 (ipykernel)",
   "language": "python",
   "name": "python3"
  },
  "language_info": {
   "codemirror_mode": {
    "name": "ipython",
    "version": 3
   },
   "file_extension": ".py",
   "mimetype": "text/x-python",
   "name": "python",
   "nbconvert_exporter": "python",
   "pygments_lexer": "ipython3",
   "version": "3.10.4"
  }
 },
 "nbformat": 4,
 "nbformat_minor": 5
}
